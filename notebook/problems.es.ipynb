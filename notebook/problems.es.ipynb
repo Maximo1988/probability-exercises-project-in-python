{
 "cells": [
  {
   "cell_type": "markdown",
   "id": "a41f3622",
   "metadata": {},
   "source": [
    "# Ejercicios de probabilidad"
   ]
  },
  {
   "cell_type": "markdown",
   "id": "a6bdbd89",
   "metadata": {},
   "source": [
    "## Ejercicio 1 \n",
    "\n",
    "Dos dados se lanzan una vez y se observa el total obtenido. Usa una simulación para encontrar la probabilidad estimada de que la puntuación sea mayor a 7 o un número par. Una simulación es una repetición del mismo experimento multiples veces para observar su comportamiento:\n",
    "\n",
    "- Ejecuta el experimento 1000 veces (lanza 2 dados 1000 veces, y suma el número de ambos dados).\n",
    "- Lleva ua cuenta de los números y las veces que la suma fue mayor a 7 o un número par.\n",
    "- Divide el número del paso 2 entre el número de iteraciones(1000)."
   ]
  },
  {
   "cell_type": "code",
   "execution_count": 20,
   "id": "8939d892",
   "metadata": {},
   "outputs": [
    {
     "name": "stdout",
     "output_type": "stream",
     "text": [
      "0.643\n"
     ]
    }
   ],
   "source": [
    "import numpy as np\n",
    "\n",
    "def par(num):\n",
    "  return num % 2 == 0\n",
    "\n",
    "dado = [1,2,3,4,5,6]\n",
    "trials = 1000\n",
    "acum = 0\n",
    "\n",
    "for _ in range(trials):\n",
    "  outcome  = np.random.choice(dado, 2).sum()\n",
    "  if outcome > 7 or par(outcome):\n",
    "    acum = acum + 1\n",
    "probabilidad_estimada = acum / trials\n",
    "print(probabilidad_estimada)\n"
   ]
  },
  {
   "cell_type": "markdown",
   "id": "55732bca",
   "metadata": {},
   "source": [
    "## Ejercicio 2\n",
    "\n",
    "Una caja contiene 10 bolas blancas, 20 bolas rojas y 30 bolas verdes. Si tomamos 5 bolas de la caja reemplazándolas (tomando una bola, anotando el color y luego regresandola a la caja). Queremos saber la probabilidad de:\n",
    "\n",
    "1. Tomar 3 blancas y 2 rojas.\n",
    "2. Toas todas del mismo color.\n",
    "\n",
    "Ejecuta el experimento 1000 veces y calcula las probabilidades que mencionadas."
   ]
  },
  {
   "cell_type": "code",
   "execution_count": 52,
   "id": "5d93727b",
   "metadata": {},
   "outputs": [
    {
     "name": "stdout",
     "output_type": "stream",
     "text": [
      "P(3 blancas y 2 rojas) = 0.004\n",
      "P(todas del mismo color) = 0.035\n"
     ]
    }
   ],
   "source": [
    "import numpy as np\n",
    "\n",
    "box = ['white'] * 10 + ['red'] * 20 + ['green'] * 30  # 10, 20, 30\n",
    "trials = 1000\n",
    "\n",
    "count_3w_2r = 0\n",
    "count_all_same = 0\n",
    "\n",
    "for _ in range(trials):\n",
    "    drawn = np.random.choice(box, size=5, replace=True)  # muestreo con reemplazo\n",
    "    whites = np.count_nonzero(drawn == 'white')\n",
    "    reds = np.count_nonzero(drawn == 'red')\n",
    "    # Evento 1: exactamente 3 blancas y 2 rojas\n",
    "    if whites == 3 and reds == 2:\n",
    "        count_3w_2r += 1\n",
    "    # Evento 2: todas del mismo color\n",
    "    if np.all(drawn == drawn[0]):\n",
    "        count_all_same += 1\n",
    "\n",
    "prob_3w_2r = count_3w_2r / trials\n",
    "prob_all_same = count_all_same / trials\n",
    "\n",
    "print(\"P(3 blancas y 2 rojas) =\", prob_3w_2r)\n",
    "print(\"P(todas del mismo color) =\", prob_all_same)"
   ]
  }
 ],
 "metadata": {
  "kernelspec": {
   "display_name": "Python 3",
   "language": "python",
   "name": "python3"
  },
  "language_info": {
   "codemirror_mode": {
    "name": "ipython",
    "version": 3
   },
   "file_extension": ".py",
   "mimetype": "text/x-python",
   "name": "python",
   "nbconvert_exporter": "python",
   "pygments_lexer": "ipython3",
   "version": "3.11.4"
  }
 },
 "nbformat": 4,
 "nbformat_minor": 5
}
